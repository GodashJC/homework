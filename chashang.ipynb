{
 "cells": [
  {
   "cell_type": "code",
   "execution_count": 23,
   "metadata": {},
   "outputs": [],
   "source": [
    "'''\n",
    "日期：2020-09-29\n",
    "姓名：陈志城\n",
    "班级：车辆1704\n",
    "学号：201704060421\n",
    "说明：此为课本P25页例2.3题目数据，现用此数据试验代码\n",
    "'''\n",
    "target_arr = [[0.40,0.41075],\n",
    "              [0.55,0.57815],\n",
    "              [0.65,0.69675],\n",
    "              [0.80,0.88811],\n",
    "              [0.90,1.02652],\n",
    "              [1.05,1.25382],]   "
   ]
  },
  {
   "cell_type": "code",
   "execution_count": 24,
   "metadata": {},
   "outputs": [
    {
     "name": "stdout",
     "output_type": "stream",
     "text": [
      "原始离散点为：\n",
      "[[0.4, 0.41075], [0.55, 0.57815], [0.65, 0.69675], [0.8, 0.88811], [0.9, 1.02652], [1.05, 1.25382]]\n",
      "-----------------------------------------------------------\n",
      "1阶商差\n",
      "[[0.4, None], [0.55, 1.116], [0.65, 1.1859999999999995], [0.8, 1.275733333333333], [0.9, 1.3841000000000017], [1.05, 1.515333333333332]]\n",
      "-----------------------------------------------------------\n",
      "2阶商差\n",
      "[[0.4, None], [0.55, None], [0.65, 0.2799999999999976], [0.8, 0.35893333333333377], [0.9, 0.4334666666666749], [1.05, 0.5249333333333217]]\n",
      "-----------------------------------------------------------\n",
      "3阶商差\n",
      "[[0.4, None], [0.55, None], [0.65, None], [0.8, 0.19733333333334047], [0.9, 0.21295238095240318], [1.05, 0.22866666666661706]]\n",
      "-----------------------------------------------------------\n",
      "4阶商差\n",
      "[[0.4, None], [0.55, None], [0.65, None], [0.8, None], [0.9, 0.03123809523812543], [1.05, 0.031428571428427754]]\n",
      "-----------------------------------------------------------\n",
      "5阶商差\n",
      "[[0.4, None], [0.55, None], [0.65, None], [0.8, None], [0.9, None], [1.05, 0.0002930402927728068]]\n"
     ]
    }
   ],
   "source": [
    "print(\"原始离散点为：\")\n",
    "print(target_arr)\n",
    "class Chashang(): \n",
    "    def __init__(self):\n",
    "        self.scale = 1 #定义商差的阶数\n",
    "        \n",
    "    def calculate(self,target_arr):\n",
    "        print(\"-----------------------------------------------------------\")\n",
    "        res_list = []\n",
    "        for i in range(len(target_arr)-self.scale):  \n",
    "            #计算商差\n",
    "            res = (target_arr[i+self.scale][1] - target_arr[i+self.scale-1][1])\\\n",
    "            /(target_arr[i+self.scale][0] - target_arr[i][0]) \n",
    "            res_list.append(res)\n",
    "        #更新函数表，用于后续递归\n",
    "        for j in range(self.scale,len(target_arr)):  \n",
    "            target_arr[j][1] = res_list.pop(0)\n",
    "        target_arr[self.scale-1][1] = None\n",
    "        print(f\"{self.scale}阶商差\")\n",
    "        print(target_arr)\n",
    "        self.scale+=1   \n",
    "        #判断递推完成条件\n",
    "        if self.scale != len(target_arr):             \n",
    "            self.calculate(target_arr)\n",
    "\n",
    "A = Chashang()\n",
    "A.calculate(target_arr)"
   ]
  },
  {
   "cell_type": "code",
   "execution_count": null,
   "metadata": {},
   "outputs": [],
   "source": []
  }
 ],
 "metadata": {
  "kernelspec": {
   "display_name": "Python 3",
   "language": "python",
   "name": "python3"
  },
  "language_info": {
   "codemirror_mode": {
    "name": "ipython",
    "version": 3
   },
   "file_extension": ".py",
   "mimetype": "text/x-python",
   "name": "python",
   "nbconvert_exporter": "python",
   "pygments_lexer": "ipython3",
   "version": "3.6.8"
  }
 },
 "nbformat": 4,
 "nbformat_minor": 2
}
