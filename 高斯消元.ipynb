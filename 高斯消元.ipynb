{
 "cells": [
  {
   "cell_type": "code",
   "execution_count": 152,
   "metadata": {
    "scrolled": true
   },
   "outputs": [],
   "source": [
    "'''\n",
    "高斯消元法求解线性方程组\n",
    "'''\n",
    "class Hw2():\n",
    "    def __init__(self):\n",
    "        self.queue = 0\n",
    "        self.res = []\n",
    "    def gauss_elimination(self,target_mat):\n",
    "        while self.queue < len(target_mat)-1:\n",
    "            for i in range(self.queue+1,len(target_mat)):\n",
    "                if target_mat[i,self.queue] == 0: #跳过开头已为0的行\n",
    "                    continue\n",
    "                tmp = target_mat[i,self.queue]/target_mat[self.queue,self.queue]\n",
    "                target_mat[i] = target_mat[i] - target_mat[self.queue]*tmp\n",
    "            self.queue+=1\n",
    "        print(\"梯形矩阵为\")\n",
    "        print(target_mat) #输出梯形化矩阵\n",
    "        res = self.solve(target_mat) #第二步，求解此方程组\n",
    "        return res\n",
    "        \n",
    "    #求解方程组：\n",
    "    def solve(self,target_mat):\n",
    "        for j in range(len(target_mat)-1,-1,-1):\n",
    "            if self.res:\n",
    "                sub_sum = 0\n",
    "                for k in range(len(self.res)):\n",
    "                    sub_sum += self.res[k]*target_mat[j,self.queue+len(self.res)-k]\n",
    "                self.res.append((target_mat[j,-1]-sub_sum)/target_mat[j,self.queue])\n",
    "                self.queue-=1\n",
    "            else:\n",
    "                self.res.append(target_mat[j,-1]/target_mat[j,self.queue])\n",
    "                self.queue-=1\n",
    "        return self.res          "
   ]
  },
  {
   "cell_type": "code",
   "execution_count": 154,
   "metadata": {},
   "outputs": [
    {
     "name": "stdout",
     "output_type": "stream",
     "text": [
      "增广矩阵为：\n",
      "[[ 1  1  1  6]\n",
      " [ 0  4 -1  5]\n",
      " [ 2 -2  1  1]]\n",
      "梯形矩阵为\n",
      "[[ 1  1  1  6]\n",
      " [ 0  4 -1  5]\n",
      " [ 0  0 -2 -6]]\n",
      "Xn,Xn-1…X2,X1的结果依次为：\n",
      "[3.0, 2.0, 1.0]\n"
     ]
    }
   ],
   "source": [
    "import numpy as np\n",
    "mat1 = np.mat(\"1 1 1;0 4 -1;2 -2 1\")\n",
    "mat2 = np.mat(\"6;5;1\")\n",
    "target_mat = np.hstack((mat1,mat2))\n",
    "test = Hw2()\n",
    "print(\"增广矩阵为：\")\n",
    "print(target_mat)\n",
    "res = test.gauss_elimination(target_mat)   \n",
    "print(\"Xn,Xn-1…X2,X1的结果依次为：\")\n",
    "print(res)"
   ]
  },
  {
   "cell_type": "code",
   "execution_count": null,
   "metadata": {},
   "outputs": [],
   "source": []
  },
  {
   "cell_type": "code",
   "execution_count": null,
   "metadata": {},
   "outputs": [],
   "source": []
  },
  {
   "cell_type": "code",
   "execution_count": null,
   "metadata": {},
   "outputs": [],
   "source": []
  },
  {
   "cell_type": "code",
   "execution_count": 63,
   "metadata": {},
   "outputs": [
    {
     "name": "stdout",
     "output_type": "stream",
     "text": [
      "[1. 1. 4.]\n"
     ]
    }
   ],
   "source": [
    "a = np.mat(\"1,-1,1;2,1,0;2,1,-1\")\n",
    "b = np.array([4,3,-1])\n",
    "x = np.linalg.solve(a,b)\n",
    "print(x)"
   ]
  }
 ],
 "metadata": {
  "kernelspec": {
   "display_name": "Python 3",
   "language": "python",
   "name": "python3"
  },
  "language_info": {
   "codemirror_mode": {
    "name": "ipython",
    "version": 3
   },
   "file_extension": ".py",
   "mimetype": "text/x-python",
   "name": "python",
   "nbconvert_exporter": "python",
   "pygments_lexer": "ipython3",
   "version": "3.6.8"
  }
 },
 "nbformat": 4,
 "nbformat_minor": 2
}
